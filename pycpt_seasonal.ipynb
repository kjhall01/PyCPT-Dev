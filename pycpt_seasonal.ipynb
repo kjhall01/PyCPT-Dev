{
 "cells": [
  {
   "cell_type": "markdown",
   "metadata": {},
   "source": [
    "# PyCPT Seasonal\n",
    "\n",
    "#### Authors: \n",
    "Nachiketa Acharya (nachiketa@iri.columbia.edu), Kyle Hall (kjh2171@columbia.edu)\n",
    "\n",
    "#### Original Authors: \n",
    "Ángel G. Muñoz (agmunoz@iri.columbia.edu), Andrew W. Robertson (awr@iri.columbia.edu), Simon J. Mason (simon@iri.columbia.edu)\n",
    "\n",
    "#### Acknowledgements: \n",
    "Rémi Cousin (IRI) for key Ingrid code development and support.\n",
    "Xandre Chourio (IRI) for Windows and code support, and testing.\n",
    "James Doss-Gollin (Columbia Water Center) developed the original download Python functions.\n",
    "Part of the effort to develop PyCPT is funded by the Columbia World Project \"Adapting Agriculture to Climate Today, for Tomorrow\" (ACToday), and NOAA MAPP's projects NA18OAR4310275 (Muñoz) and NA16OAR4310145 (Robertson).\n",
    "\n",
    "\n",
    "#### Input:\n",
    "* Predictor is rainfall from S2S ECMWF (no realtime), or NCEP CFSv2 (realtime), or SubX GEFS (realtime)\n",
    "* Predictand is either rainfall total or frequency of rainy days from TRMM (3B42 v7) or CPC Unified or IMD\n",
    "\n",
    "#### Output:\n",
    "* Several skill maps for assessment of deterministic forecast AND forecast maps, in the output folder.\n",
    "* CPT scripts used to assess skill, in the scripts folder.\n",
    "* Downloaded input files, in the input folder.\n",
    "\n",
    "\n",
    "### Namelist section"
   ]
  },
  {
   "cell_type": "code",
   "execution_count": 1,
   "metadata": {},
   "outputs": [],
   "source": [
    "########Work name (name of the work folder; e.g., one word followed by \"_seasonal\":)\n",
    "work = 'Test_Both'\n",
    "\n",
    "########Some folder and file options:\n",
    "# Where do you want to make the work folder-- this should already exist!!!\n",
    "workdir = \"/Users/kylehall/Projects/PyCPT/PyCPT-Dev/\"\n",
    "# PATH to CPT directory (folder containing CPT.x)\n",
    "cptdir='/Users/kylehall/CPT/16.5.8/'\n",
    "shp_file = '../BGD_adm/BGD_adm1.shp' #path from pycpt_functions_seasonal.py to your shape file\n",
    "use_default = 'True' #Make False to turn off default country boundaries\n",
    "\n",
    "########Model (choose one, a subset or all models: \n",
    "#CMC1-CanCM3, CMC2-CanCM4,  COLA-RSMAS-CCSM4*, GFDL-CM2p5-FLOR-A06*, GFDL-CM2p5-FLOR-B01*,GFDL-CM2p1-aer04*, NASA-GEOSS2S*, NCEP-CFSv2*)\n",
    "#The ones with \"*\" are producing operational forecasts, the others are frozen. \n",
    "models=['COLA-RSMAS-CCSM4','GFDL-CM2p5-FLOR-A06']#,'CMC1-CanCM3' 'GFDL-CM2p5-FLOR-B01','GFDL-CM2p1-aer04','CMC1-CanCM3', 'CMC2-CanCM4','NCEP-CFSv2']\n",
    "\n",
    "#####Choose metrics (options are: 'Pearson','Spearman','2AFC','RocAbove','RocBelow', 'RMSE'):\n",
    "met=['Pearson']#,'Spearman']#,'2AFC','RocAbove','RocBelow', 'RMSE']\n",
    "\n",
    "########Obs (choose between CPC-CMAP-URD, CHIRPS, TRMM, CPC, Chilestations,GPCC)\n",
    "obs='ENACTS-BD'\n",
    "station=False\n",
    "\n",
    "########MOS method (choose between None, PCR, CCA) #Esto es calibracion\n",
    "MOS='CCA' \n",
    "\n",
    "\n",
    "#only used if MOS == 'CCA' or MOS == 'PCR'\n",
    "xmodes_min = 1\n",
    "xmodes_max = 8\n",
    "ymodes_min = 2\n",
    "ymodes_max = 10\n",
    "ccamodes_min = 1\n",
    "ccamodes_max = 5\n",
    "eofmodes = 3 #number of EOF modes to compute\n",
    "\n",
    "########Predictand (choose between PRCP, RFREQ)\n",
    "PREDICTAND='PRCP'\n",
    "\n",
    "########Predictor (choose between GCM's PRCP, VQ, UQ)\n",
    "#VQ and UQ only works with models=['NCEP-CFSv2']\n",
    "PREDICTOR='PRCP'\n",
    "\n",
    "########Target seasons and related parameters\n",
    "##If more targets, increase the arrays accordingly\n",
    "#mons=['Jan','Feb','Mar','Apr','May','Jun','Jul','Aug','Sep','Oct','Nov','Dec']\n",
    "mons=[ 'May', 'Dec']\n",
    "tgti=['1.5', '1.5']  #S: start for the DL\n",
    "tgtf=['3.5', '3.5']   #S: end for the DL\n",
    "#for now, just write the target period (for DL)\n",
    "#tgts=['Feb-Apr','Mar-May','Apr-Jun','May-Jul','Jun-Aug','Jul-Sep','Aug-Oct','Sep-Nov','Oct-Dec','Nov-Jan','Dec-Feb','Jan-Mar'] \n",
    "tgts=['Jun-Aug', 'Jan-Mar']\n",
    "\n",
    "tini = 1982\n",
    "tend = 2009\n",
    "\n",
    "########Forecast date  \n",
    "monf=['May', 'Dec'] \t# Initialization month \n",
    "fyr=2019 \t# Forecast year\n",
    "\n",
    "########Switches: \n",
    "force_download = False   #force download of data files, even if they already exist locally --- IF YOU ALREADY HAVE OBS FILES, DOUBLE CHECK WHICH ONES THEY ARE --- True to be safe\n",
    "\n",
    "# ########Spatial domain for predictor\n",
    "nla1=35 \t# Northernmost latitude\n",
    "sla1=15 \t# Southernmost latitude\n",
    "wlo1=80 \t# Westernmost longitude\n",
    "elo1=100 \t# Easternmost longitude\n",
    "# Spatial domain for predictand\n",
    "nla2=28 \t# Northernmost latitude\n",
    "sla2=20 \t# Southernmost latitude\n",
    "wlo2=87 \t# Westernmost longitude\n",
    "elo2=94 \t# Easternmost longitude\n",
    "\n",
    "\n",
    "#If you have local observations data, please provide some metadata here!\n",
    "local_obs_files = ['None', 'None']#['../MERGED_DATA_S_ASIA_1982_2019_JJAS.nc','../Merged_data_yrmean_OND_1982_2019.nc'] #either 'None' if you don't have local data, or the path of your local obs data file\n",
    "local_obs_LongitudeKey = 'LONGITUDE' #ncdf key for accessing latitude - must be the same for all files\n",
    "local_obs_LatitudeKey = 'LATITUDE'   #ncdf key for accessing longitude\n",
    "local_obs_timeKey = 'time'           #ncdf key for accessing time\n",
    "local_obs_datakey = 'rf'             #ncdf key for accessing data itself\n"
   ]
  },
  {
   "cell_type": "markdown",
   "metadata": {},
   "source": [
    "### End of namelist section "
   ]
  },
  {
   "cell_type": "markdown",
   "metadata": {},
   "source": [
    "#### Load Libraries"
   ]
  },
  {
   "cell_type": "code",
   "execution_count": 2,
   "metadata": {},
   "outputs": [
    {
     "ename": "SyntaxError",
     "evalue": "invalid syntax (pycpt_functions_seasonal.py, line 1434)",
     "output_type": "error",
     "traceback": [
      "Traceback \u001b[0;36m(most recent call last)\u001b[0m:\n",
      "  File \u001b[1;32m\"/Users/kylehall/miniconda/envs/py38/lib/python3.8/site-packages/IPython/core/interactiveshell.py\"\u001b[0m, line \u001b[1;32m3417\u001b[0m, in \u001b[1;35mrun_code\u001b[0m\n    exec(code_obj, self.user_global_ns, self.user_ns)\n",
      "\u001b[0;36m  File \u001b[0;32m\"<ipython-input-2-7143aab8d361>\"\u001b[0;36m, line \u001b[0;32m7\u001b[0;36m, in \u001b[0;35m<module>\u001b[0;36m\u001b[0m\n\u001b[0;31m    from pycpt_functions_seasonal import *\u001b[0m\n",
      "\u001b[0;36m  File \u001b[0;32m\"/Users/kylehall/Projects/PYCPT/PyCPT-Dev/pycpt_functions_seasonal.py\"\u001b[0;36m, line \u001b[0;32m1434\u001b[0m\n\u001b[0;31m    else:\u001b[0m\n\u001b[0m    ^\u001b[0m\n\u001b[0;31mSyntaxError\u001b[0m\u001b[0;31m:\u001b[0m invalid syntax\n"
     ]
    }
   ],
   "source": [
    "import os\n",
    "import sys\n",
    "import xarray as xr\n",
    "import numpy as np\n",
    "import pandas as pd\n",
    "import subprocess\n",
    "from pycpt_functions_seasonal import *\n",
    "from scipy.stats import t\n",
    "if MOS=='ELR':\n",
    "    from sklearn.linear_model import LogisticRegression\n",
    "import cartopy.crs as ccrs\n",
    "from cartopy.feature import NaturalEarthFeature, LAND, COASTLINE\n",
    "import matplotlib.pyplot as plt\n",
    "from matplotlib.colors import LinearSegmentedColormap\n",
    "from cartopy.mpl.gridliner import LONGITUDE_FORMATTER, LATITUDE_FORMATTER\n",
    "import calendar\n",
    "import platform\n",
    "\n",
    "\n",
    "pycpt = PyCPT_Args(cptdir, models, met, obs, station, MOS, xmodes_min, xmodes_max, ymodes_min, ymodes_max, ccamodes_min, ccamodes_max, eofmodes, PREDICTAND, PREDICTOR, mons, tgti, tgtf, tgts, tini, tend, monf, fyr, force_download, nla1, sla1, wlo1, elo1, nla2, sla2, wlo2, elo2, local_obs_files, local_obs_LongitudeKey, local_obs_LatitudeKey, local_obs_timeKey, local_obs_datakey, shp_file, use_default)\n",
    "setup_directories(work, workdir, force_download, cptdir)\n"
   ]
  },
  {
   "cell_type": "markdown",
   "metadata": {},
   "source": [
    "## Check if domains are ok --if you don't like them, go back to the namelist and modify them"
   ]
  },
  {
   "cell_type": "code",
   "execution_count": null,
   "metadata": {
    "scrolled": false
   },
   "outputs": [],
   "source": [
    "#Plot domains\n",
    "pycpt.pltdomain()"
   ]
  },
  {
   "cell_type": "markdown",
   "metadata": {},
   "source": [
    "# Download data if necessary, and run CPT"
   ]
  },
  {
   "cell_type": "code",
   "execution_count": null,
   "metadata": {
    "scrolled": true
   },
   "outputs": [],
   "source": [
    "\n",
    "#If downloadling data from several models, this section might take a while to be done\n",
    "for model in range(len(models)):\n",
    "    print('\\n\\n\\n--------Starting process for '+models[model]+'--------')\n",
    "    for tgt in range(len(mons)):\n",
    "    \n",
    "        ########Set Up Useful Variables Automatically - tini & tend may change based on tgt\n",
    "        pycpt.setupParams(tgt)\n",
    "            \n",
    "        #download input files for CPT\n",
    "        pycpt.prepFiles(tgt, model)\n",
    "        \n",
    "        #write CPT input script automatically\n",
    "        pycpt.CPTscript(tgt, model)\n",
    "        \n",
    "        #run CPT\n",
    "        pycpt.run(tgt, model)\n",
    "        "
   ]
  },
  {
   "cell_type": "markdown",
   "metadata": {},
   "source": [
    "## Deterministic Skill Analysis"
   ]
  },
  {
   "cell_type": "code",
   "execution_count": null,
   "metadata": {
    "scrolled": true
   },
   "outputs": [],
   "source": [
    "# Skill scores loop\n",
    "for ime in range(len(met)):\n",
    "    pycpt.pltmap(ime)   \n"
   ]
  },
  {
   "cell_type": "markdown",
   "metadata": {},
   "source": [
    "##### EOF Analysis (only available if MOS=PCR or CCA)"
   ]
  },
  {
   "cell_type": "code",
   "execution_count": null,
   "metadata": {
    "scrolled": false
   },
   "outputs": [],
   "source": [
    "# Skill scores loop\n",
    "if MOS in ['PCR', 'CCA']:\n",
    "    for imod in range(eofmodes):\n",
    "        pycpt.plteofs(imod)  "
   ]
  },
  {
   "cell_type": "markdown",
   "metadata": {},
   "source": [
    "## Multi-model ensemble: NextGen"
   ]
  },
  {
   "cell_type": "code",
   "execution_count": null,
   "metadata": {
    "scrolled": true
   },
   "outputs": [],
   "source": [
    "models=['COLA-RSMAS-CCSM4','GFDL-CM2p5-FLOR-A06']#,'CMC1-CanCM3' 'GFDL-CM2p5-FLOR-B01','GFDL-CM2p1-aer04','CMC1-CanCM3', 'CMC2-CanCM4','NCEP-CFSv2']\n",
    "pycpt.setNextGenModels(models)\n",
    "\n",
    "\n",
    "for tgt in range(len(tgts)):\n",
    "\n",
    "    #prepare files for nextgen input using simple mean\n",
    "    pycpt.NGensemble(tgt)\n",
    "\n",
    "    #write CPT input script for NextGen\n",
    "    pycpt.CPTscript(tgt)\n",
    "\n",
    "    #run CPT for nextgen\n",
    "    pycpt.run(tgt)"
   ]
  },
  {
   "cell_type": "code",
   "execution_count": null,
   "metadata": {
    "scrolled": true
   },
   "outputs": [],
   "source": [
    "# Skill scores loop\n",
    "for ime in range(len(met)):\n",
    "    pycpt.pltmap(ime, isNextGen=1)   "
   ]
  },
  {
   "cell_type": "markdown",
   "metadata": {},
   "source": [
    "# Real-Time Forecast"
   ]
  },
  {
   "cell_type": "code",
   "execution_count": null,
   "metadata": {},
   "outputs": [],
   "source": [
    "pycpt.plt_ng_deterministic()\n",
    "pycpt.plt_ng_probabilistic()"
   ]
  },
  {
   "cell_type": "code",
   "execution_count": null,
   "metadata": {
    "scrolled": true
   },
   "outputs": [],
   "source": [
    "pycpt.ensemblefiles(['NextGen'],work)"
   ]
  }
 ],
 "metadata": {
  "kernelspec": {
   "display_name": "py38",
   "language": "python",
   "name": "py38"
  },
  "language_info": {
   "codemirror_mode": {
    "name": "ipython",
    "version": 3
   },
   "file_extension": ".py",
   "mimetype": "text/x-python",
   "name": "python",
   "nbconvert_exporter": "python",
   "pygments_lexer": "ipython3",
   "version": "3.8.5"
  }
 },
 "nbformat": 4,
 "nbformat_minor": 2
}
